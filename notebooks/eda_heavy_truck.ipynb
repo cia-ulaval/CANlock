{
 "cells": [
  {
   "cell_type": "markdown",
   "id": "26d79b8d",
   "metadata": {},
   "source": [
    "# Exploratory Data Analysis of Heavy Truck J1939 data\n",
    "\n",
    "Ce notebook va servir de base dans l'analyse des données du `Heavy Truck`. Ces données reprennent une payload que nous pouvons retrouver avec le protocole **bus CAN J1939**.\n",
    "\n",
    "**Payload d'un message sous protocole J1939:**\n",
    "\n",
    "![payload j1939](./images/j1939-payload.png)\n",
    "\n",
    ":warning: Attention à bien écouter Vendredi 26 la présentation de `Simon Bellemare` sur les données **bus CAN J1939** !"
   ]
  },
  {
   "cell_type": "markdown",
   "id": "4702305d",
   "metadata": {},
   "source": [
    "## Imports"
   ]
  },
  {
   "cell_type": "code",
   "execution_count": null,
   "id": "57061dfb",
   "metadata": {},
   "outputs": [],
   "source": [
    "from sqlmodel import Session, select\n",
    "\n",
    "from canlock.db.database import get_session, init_db\n",
    "from canlock.db.models import Vehicle, CanMessage"
   ]
  },
  {
   "cell_type": "code",
   "execution_count": null,
   "id": "08c861d0",
   "metadata": {},
   "outputs": [],
   "source": [
    "init_db()  # Ensure tables are created\n",
    "\n",
    "with get_session() as session:\n",
    "    # Fetch all vehicles\n",
    "    vehicles = session.exec(select(Vehicle)).all()\n",
    "    \n",
    "    # Fetch 100 CAN messages for example\n",
    "    canmessages = session.exec(select(CanMessage).limit(100)).all()"
   ]
  },
  {
   "cell_type": "code",
   "execution_count": null,
   "id": "392be5f5",
   "metadata": {},
   "outputs": [],
   "source": [
    "vehicles"
   ]
  },
  {
   "cell_type": "code",
   "execution_count": null,
   "id": "ad0b35c4",
   "metadata": {},
   "outputs": [],
   "source": [
    "canmessages"
   ]
  },
  {
   "cell_type": "code",
   "execution_count": null,
   "id": "f99a04ba",
   "metadata": {},
   "outputs": [],
   "source": []
  },
  {
   "cell_type": "code",
   "execution_count": null,
   "id": "3818466b",
   "metadata": {},
   "outputs": [],
   "source": []
  },
  {
   "cell_type": "code",
   "execution_count": null,
   "id": "889e3eb7",
   "metadata": {},
   "outputs": [],
   "source": []
  },
  {
   "cell_type": "code",
   "execution_count": null,
   "id": "36149906",
   "metadata": {},
   "outputs": [],
   "source": []
  }
 ],
 "metadata": {
  "kernelspec": {
   "display_name": "canlock",
   "language": "python",
   "name": "python3"
  },
  "language_info": {
   "codemirror_mode": {
    "name": "ipython",
    "version": 3
   },
   "file_extension": ".py",
   "mimetype": "text/x-python",
   "name": "python",
   "nbconvert_exporter": "python",
   "pygments_lexer": "ipython3",
   "version": "3.10.18"
  }
 },
 "nbformat": 4,
 "nbformat_minor": 5
}
