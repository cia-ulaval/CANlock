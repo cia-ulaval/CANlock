{
 "cells": [
  {
   "cell_type": "markdown",
   "id": "26d79b8d",
   "metadata": {},
   "source": [
    "# Exploratory Data Analysis of Heavy Truck J1939 data\n",
    "\n",
    "Ce notebook va servir de base dans l'analyse des données du `Heavy Truck`. Ces données reprennent une payload que nous pouvons retrouver avec le protocole **bus CAN J1939**.\n",
    "\n",
    "**Payload d'un message sous protocole J1939:**\n",
    "\n",
    "![payload j1939](./images/j1939-payload.png)\n",
    "\n",
    ":warning: Attention à bien écouter Vendredi 26 la présentation de `Simon Bellemare` sur les données **bus CAN J1939** !"
   ]
  },
  {
   "cell_type": "markdown",
   "id": "4702305d",
   "metadata": {},
   "source": [
    "## Imports"
   ]
  },
  {
   "cell_type": "code",
   "execution_count": 1,
   "id": "57061dfb",
   "metadata": {},
   "outputs": [],
   "source": [
    "from sqlmodel import Session, select\n",
    "\n",
    "from canlock.db.database import get_session, init_db\n",
    "from canlock.db.models import Vehicle, CanMessage, PgnDefinition, SpnDefinition, Ecu, Session"
   ]
  },
  {
   "cell_type": "markdown",
   "id": "b36b3806",
   "metadata": {},
   "source": [
    "1ère étape: récupérons toutes les sessions"
   ]
  },
  {
   "cell_type": "code",
   "execution_count": 2,
   "id": "9e4d5c64",
   "metadata": {},
   "outputs": [
    {
     "name": "stdout",
     "output_type": "stream",
     "text": [
      "Number of sessions: 228\n"
     ]
    }
   ],
   "source": [
    "init_db()\n",
    "\n",
    "with get_session() as session:\n",
    "    sessions = session.exec(select(Session)).all()\n",
    "    print(f\"Number of sessions: {len(sessions)}\")"
   ]
  },
  {
   "cell_type": "markdown",
   "id": "83deda34",
   "metadata": {},
   "source": [
    "2ème étape: sélectionnons une session"
   ]
  },
  {
   "cell_type": "code",
   "execution_count": 3,
   "id": "2c78d765",
   "metadata": {},
   "outputs": [
    {
     "data": {
      "text/plain": [
       "[(9, 0.9833333333333333),\n",
       " (22, 9.866666666666667),\n",
       " (25, 0.9833333333333333),\n",
       " (46, 1.0),\n",
       " (55, 0.9833333333333333),\n",
       " (57, 2.95),\n",
       " (63, 1.9666666666666666),\n",
       " (68, 0.9833333333333333),\n",
       " (72, 3.933333333333333),\n",
       " (73, 3.933333333333333),\n",
       " (75, 1.9833333333333334),\n",
       " (81, 3.933333333333333),\n",
       " (89, 8.85),\n",
       " (99, 2.933333333333333),\n",
       " (102, 3.95),\n",
       " (119, 1.9666666666666666),\n",
       " (128, 8.866666666666667),\n",
       " (130, 0.9833333333333333),\n",
       " (152, 2.95),\n",
       " (161, 1.9666666666666666),\n",
       " (179, 2.966666666666667),\n",
       " (186, 8.883333333333333),\n",
       " (202, 1.9666666666666666),\n",
       " (205, 6.9),\n",
       " (206, 2.95),\n",
       " (208, 8.85),\n",
       " (214, 8.9)]"
      ]
     },
     "execution_count": 3,
     "metadata": {},
     "output_type": "execute_result"
    }
   ],
   "source": [
    "session_durations = [(i, (sess.end_time - sess.start_time).total_seconds() / 60) for i, sess in enumerate(sessions)]\n",
    "[(sess_id, duration) for sess_id, duration in session_durations if duration <= 10 and duration > 0]"
   ]
  },
  {
   "cell_type": "markdown",
   "id": "1021a93c",
   "metadata": {},
   "source": [
    "Prenons la session 205 qui a une durée d'environ 7 minutes, ce qui est largement suffisant pour nos tests."
   ]
  },
  {
   "cell_type": "code",
   "execution_count": 4,
   "id": "190f9152",
   "metadata": {},
   "outputs": [
    {
     "name": "stdout",
     "output_type": "stream",
     "text": [
      "Nombre de messages CAN disponible durant cette session: 400008\n"
     ]
    },
    {
     "data": {
      "text/plain": [
       "[CanMessage(can_identifier=369055206, length=8, id=424108483, timestamp=datetime.datetime(2021, 3, 18, 12, 4, 15, 211130), session_id=UUID('c6c2d871-9725-4b8d-8810-0b0b844f9d09'), payload=b'\\xbf\\x7f\\xff\\xbc\\xff\\x03<\\x00'),\n",
       " CanMessage(can_identifier=418384358, length=8, id=424108484, timestamp=datetime.datetime(2021, 3, 18, 12, 4, 15, 211696), session_id=UUID('c6c2d871-9725-4b8d-8810-0b0b844f9d09'), payload=b'Y}`{}\\xc7|\\xff'),\n",
       " CanMessage(can_identifier=419323080, length=8, id=424108485, timestamp=datetime.datetime(2021, 3, 18, 12, 4, 15, 212277), session_id=UUID('c6c2d871-9725-4b8d-8810-0b0b844f9d09'), payload=b'\\xff\\xff\\xff\\xff\\xff\\x00\\xff\\xff'),\n",
       " CanMessage(can_identifier=419361254, length=8, id=424108486, timestamp=datetime.datetime(2021, 3, 18, 12, 4, 15, 212782), session_id=UUID('c6c2d871-9725-4b8d-8810-0b0b844f9d09'), payload=b'\\xf7\\x00\\x00\\xc4\\x00\\xff\\xe0\\xff'),\n",
       " CanMessage(can_identifier=150892262, length=8, id=424108487, timestamp=datetime.datetime(2021, 3, 18, 12, 4, 15, 215242), session_id=UUID('c6c2d871-9725-4b8d-8810-0b0b844f9d09'), payload=b'\\x00\\x00\\x00\\x00\\x00\\x00\\x00\\x00')]"
      ]
     },
     "execution_count": 4,
     "metadata": {},
     "output_type": "execute_result"
    }
   ],
   "source": [
    "with get_session() as session:\n",
    "    can_messages = session.exec(\n",
    "        select(CanMessage)\n",
    "        .where(CanMessage.session_id == sessions[205].id)\n",
    "        .order_by(CanMessage.timestamp)\n",
    "    ).all()\n",
    "    \n",
    "print(f\"Nombre de messages CAN disponible durant cette session: {len(can_messages)}\")\n",
    "can_messages[:5]"
   ]
  },
  {
   "cell_type": "markdown",
   "id": "b1fa07c1",
   "metadata": {},
   "source": [
    "Cela nous fait environ 400000 messages à décoder, ce qui est amplement suffisant.\n",
    "\n",
    "Pour récupérer les valeurs, il faut dans un premier temps, identifier le bon PGN. Puis avec le PGN, nous devons récupérer les SPNs qui sont associés et décoder les valeurs par rapports aux colonnes données."
   ]
  },
  {
   "cell_type": "code",
   "execution_count": null,
   "id": "4098c752",
   "metadata": {},
   "outputs": [],
   "source": []
  },
  {
   "cell_type": "code",
   "execution_count": null,
   "id": "fffaecfa",
   "metadata": {},
   "outputs": [],
   "source": []
  },
  {
   "cell_type": "code",
   "execution_count": null,
   "id": "47fd0f5c",
   "metadata": {},
   "outputs": [],
   "source": []
  },
  {
   "cell_type": "code",
   "execution_count": null,
   "id": "01448802",
   "metadata": {},
   "outputs": [],
   "source": []
  },
  {
   "cell_type": "code",
   "execution_count": null,
   "id": "5b500f78",
   "metadata": {},
   "outputs": [],
   "source": []
  },
  {
   "cell_type": "code",
   "execution_count": null,
   "id": "08c861d0",
   "metadata": {},
   "outputs": [],
   "source": [
    "init_db()  # Ensure tables are created\n",
    "\n",
    "with get_session() as session:\n",
    "    # Fetch all vehicles\n",
    "    vehicles = session.exec(select(Vehicle)).all()\n",
    "    \n",
    "    # Fetch 100 CAN messages for example\n",
    "    canmessages = session.exec(select(CanMessage).limit(100)).all()"
   ]
  },
  {
   "cell_type": "code",
   "execution_count": null,
   "id": "392be5f5",
   "metadata": {},
   "outputs": [],
   "source": [
    "vehicles"
   ]
  },
  {
   "cell_type": "code",
   "execution_count": null,
   "id": "ad0b35c4",
   "metadata": {},
   "outputs": [],
   "source": [
    "canmessages"
   ]
  },
  {
   "cell_type": "code",
   "execution_count": null,
   "id": "f99a04ba",
   "metadata": {},
   "outputs": [],
   "source": [
    "canmessages[0].can_identifier\n",
    "\n",
    "# Convert integer to 29 bits string\n",
    "binary_identifier = bin(canmessages[0].can_identifier)[2:].zfill(29)\n",
    "pgn_identifier = binary_identifier[3:21] # Extract bits 3 to 20\n",
    "\n",
    "# Convert PGN identifier to integer\n",
    "pgn_integer = int(pgn_identifier, 2)\n",
    "\n",
    "# SQLmodel query to table PGNDefinition with pgn_integer key value\n",
    "with get_session() as session:\n",
    "    pgn_definition = session.exec(select(PgnDefinition).where(PgnDefinition.pgn_identifier == pgn_integer)).first()"
   ]
  },
  {
   "cell_type": "code",
   "execution_count": null,
   "id": "889e3eb7",
   "metadata": {},
   "outputs": [],
   "source": [
    "pgn_identifier"
   ]
  },
  {
   "cell_type": "code",
   "execution_count": null,
   "id": "36149906",
   "metadata": {},
   "outputs": [],
   "source": [
    "pgn_integer"
   ]
  },
  {
   "cell_type": "code",
   "execution_count": null,
   "id": "bd91bc36",
   "metadata": {},
   "outputs": [],
   "source": [
    "pgn_definition.name"
   ]
  },
  {
   "cell_type": "code",
   "execution_count": null,
   "id": "a7b7bcde",
   "metadata": {},
   "outputs": [],
   "source": [
    "canmessages[0].can_identifier\n",
    "\n",
    "# Convert integer to 29 bits string\n",
    "binary_identifier = bin(canmessages[0].can_identifier)[2:].zfill(29)\n",
    "address_identifier = binary_identifier[21:] # Extract bits 21 to the end\n",
    "\n",
    "# Convert Address identifier to integer\n",
    "address_integer = int(address_identifier, 2)\n",
    "\n",
    "# SQLmodel query to table Ecu with pgn_integer key value\n",
    "with get_session() as session:\n",
    "    ecu_result = session.exec(select(Ecu).where(Ecu.address == address_integer)).first()"
   ]
  },
  {
   "cell_type": "code",
   "execution_count": null,
   "id": "581a4ab3",
   "metadata": {},
   "outputs": [],
   "source": [
    "ecu_result.name"
   ]
  },
  {
   "cell_type": "code",
   "execution_count": null,
   "id": "ecc4164f",
   "metadata": {},
   "outputs": [],
   "source": [
    "with get_session() as session:\n",
    "    all_spn_definitions = session.exec(select(SpnDefinition)).all()\n",
    "    all_pgn_definitions = session.exec(select(PgnDefinition)).all()"
   ]
  },
  {
   "cell_type": "code",
   "execution_count": null,
   "id": "cbc3d713",
   "metadata": {},
   "outputs": [],
   "source": [
    "len(all_spn_definitions)"
   ]
  },
  {
   "cell_type": "code",
   "execution_count": null,
   "id": "de8a51bb",
   "metadata": {},
   "outputs": [],
   "source": [
    "len(all_pgn_definitions)"
   ]
  },
  {
   "cell_type": "code",
   "execution_count": null,
   "id": "7902c74e",
   "metadata": {},
   "outputs": [],
   "source": [
    "all_spn_names = [spn_def.name for spn_def in all_spn_definitions]\n",
    "all_pgn_names = [pgn_def.name for pgn_def in all_pgn_definitions]"
   ]
  },
  {
   "cell_type": "code",
   "execution_count": null,
   "id": "78dff78a",
   "metadata": {},
   "outputs": [],
   "source": [
    "set(all_spn_names).intersection(set(all_pgn_names))"
   ]
  },
  {
   "cell_type": "code",
   "execution_count": null,
   "id": "d91351b2",
   "metadata": {},
   "outputs": [],
   "source": [
    "all_spn_definitions"
   ]
  },
  {
   "cell_type": "code",
   "execution_count": null,
   "id": "a4107f0a",
   "metadata": {},
   "outputs": [],
   "source": [
    "all_pgn_definitions"
   ]
  },
  {
   "cell_type": "code",
   "execution_count": null,
   "id": "a4e3a53e",
   "metadata": {},
   "outputs": [],
   "source": [
    "# Convert payload to 64-bits binary string\n",
    "binary_payload = bin(int.from_bytes(canmessages[7].payload, byteorder='big'))[2:].zfill(64)\n",
    "binary_payload"
   ]
  },
  {
   "cell_type": "code",
   "execution_count": null,
   "id": "bef60418",
   "metadata": {},
   "outputs": [],
   "source": [
    "binary_payload[4:12]"
   ]
  },
  {
   "cell_type": "code",
   "execution_count": null,
   "id": "cdd4d501",
   "metadata": {},
   "outputs": [],
   "source": [
    "binary_payload[24:40]"
   ]
  },
  {
   "cell_type": "code",
   "execution_count": null,
   "id": "6024a8b7",
   "metadata": {},
   "outputs": [],
   "source": [
    "int(binary_payload[24:40], 2)"
   ]
  },
  {
   "cell_type": "code",
   "execution_count": null,
   "id": "90acd4af",
   "metadata": {},
   "outputs": [],
   "source": [
    "with get_session() as session:\n",
    "    spn_definition = session.exec(select(SpnDefinition).where(SpnDefinition.spn_identifier == int(binary_payload[24:40], 2))).first()\n",
    "    analog_definition = spn_definition.analog_attributes"
   ]
  },
  {
   "cell_type": "code",
   "execution_count": null,
   "id": "109cb73a",
   "metadata": {},
   "outputs": [],
   "source": [
    "analog_definition"
   ]
  },
  {
   "cell_type": "code",
   "execution_count": null,
   "id": "3455f044",
   "metadata": {},
   "outputs": [],
   "source": [
    "binary_payload[8:16]"
   ]
  },
  {
   "cell_type": "code",
   "execution_count": null,
   "id": "89aa23fe",
   "metadata": {},
   "outputs": [],
   "source": []
  },
  {
   "cell_type": "code",
   "execution_count": null,
   "id": "f5c265d8",
   "metadata": {},
   "outputs": [],
   "source": []
  },
  {
   "cell_type": "code",
   "execution_count": null,
   "id": "8616b941",
   "metadata": {},
   "outputs": [],
   "source": []
  },
  {
   "cell_type": "code",
   "execution_count": null,
   "id": "1257cb19",
   "metadata": {},
   "outputs": [],
   "source": []
  }
 ],
 "metadata": {
  "kernelspec": {
   "display_name": "canlock",
   "language": "python",
   "name": "python3"
  },
  "language_info": {
   "codemirror_mode": {
    "name": "ipython",
    "version": 3
   },
   "file_extension": ".py",
   "mimetype": "text/x-python",
   "name": "python",
   "nbconvert_exporter": "python",
   "pygments_lexer": "ipython3",
   "version": "3.10.18"
  }
 },
 "nbformat": 4,
 "nbformat_minor": 5
}
