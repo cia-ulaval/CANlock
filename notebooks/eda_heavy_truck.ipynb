{
 "cells": [
  {
   "cell_type": "markdown",
   "id": "26d79b8d",
   "metadata": {},
   "source": [
    "# Exploratory Data Analysis of Heavy Truck J1939 data\n",
    "\n",
    "Ce notebook va servir de base dans l'analyse des données du `Heavy Truck`. Ces données reprennent une payload que nous pouvons retrouver avec le protocole **bus CAN J1939**.\n",
    "\n",
    "**Payload d'un message sous protocole J1939:**\n",
    "\n",
    "![payload j1939](./images/j1939-payload.png)\n",
    "\n",
    ":warning: Attention à bien écouter Vendredi 26 la présentation de `Simon Bellemare` sur les données **bus CAN J1939** !"
   ]
  },
  {
   "cell_type": "markdown",
   "id": "4702305d",
   "metadata": {},
   "source": [
    "## Imports"
   ]
  },
  {
   "cell_type": "code",
   "execution_count": 1,
   "id": "57061dfb",
   "metadata": {},
   "outputs": [],
   "source": [
    "import csv\n",
    "from pathlib import Path\n",
    "\n",
    "import dask.dataframe as dd\n",
    "import pandas as pd\n",
    "import plotly.express as px\n",
    "from tqdm.notebook import tqdm"
   ]
  },
  {
   "cell_type": "markdown",
   "id": "af9d619e",
   "metadata": {},
   "source": [
    "## Chargement des données\n",
    "\n",
    "Il est important de noter que l'arborescence des données est la suivante:\n",
    "\n",
    "```txt\n",
    "|--- heavy_truck_data\n",
    "    |--- part_1\n",
    "        |--- part_1\n",
    "            |--- csv\n",
    "    |--- part_2\n",
    "        |--- part_2\n",
    "            |--- csv\n",
    "    |--- part_3\n",
    "        |--- part_3\n",
    "            |--- csv\n",
    "    |--- part_4\n",
    "        |--- part_4\n",
    "            |--- csv\n",
    "```"
   ]
  },
  {
   "cell_type": "code",
   "execution_count": null,
   "id": "ff49d995",
   "metadata": {},
   "outputs": [],
   "source": [
    "heavy_truck_data_path = Path(\"../data/heavy_truck_data\")\n",
    "\n",
    "ddf = dd.read_csv(\"../data/heavy_truck_data/**/*.csv\", sep=\";\", on_bad_lines=\"skip\")"
   ]
  },
  {
   "cell_type": "markdown",
   "id": "a582ca36",
   "metadata": {},
   "source": [
    "## Découverte des données"
   ]
  },
  {
   "cell_type": "markdown",
   "id": "570c0f95",
   "metadata": {},
   "source": [
    "### Les colonnes\n",
    "\n",
    "Nous pouvons commencer par regarder quelles colonnes composent nos données. Cela nous donnera peut être une idée des parties du message qui sont conservés."
   ]
  },
  {
   "cell_type": "code",
   "execution_count": null,
   "id": "88d78efe",
   "metadata": {},
   "outputs": [],
   "source": [
    "ddf.columns"
   ]
  },
  {
   "cell_type": "markdown",
   "id": "1fd7f5df",
   "metadata": {},
   "source": [
    "Il y a donc 3 parties claires que nous possédons dans les données:\n",
    "\n",
    "- `id`: l'adresse de l'émetteur, du récepteur, de la priorité et/ou autre (voir la capture d'écran: PGN par exemple).\n",
    "- `dlc`: le fameux Data Length Content qui indique la taille du payload.\n",
    "- `data`: ce doit être la payload en elle même.\n",
    "\n",
    "Il serait intéressant de confirmer nos intuitions par rapport au graphique du payload montré en début de notebook."
   ]
  },
  {
   "cell_type": "code",
   "execution_count": null,
   "id": "06369ceb",
   "metadata": {},
   "outputs": [],
   "source": [
    "ddf.dtypes"
   ]
  },
  {
   "cell_type": "markdown",
   "id": "e35f1c6f",
   "metadata": {},
   "source": [
    "On a que des valeurs décimales, nous allons soit devoir les convertir en binaire soit les garders en décimales, excepté la colonne `timestamp`."
   ]
  },
  {
   "cell_type": "markdown",
   "id": "35f052c2",
   "metadata": {},
   "source": [
    "### Les valeurs d'ID"
   ]
  },
  {
   "cell_type": "code",
   "execution_count": null,
   "id": "e1fec2d0",
   "metadata": {},
   "outputs": [],
   "source": [
    "ddf[\"id\"].head(5)"
   ]
  },
  {
   "cell_type": "markdown",
   "id": "b2ae01ff",
   "metadata": {},
   "source": [
    "Ce sont des valeurs réelles, sous 256 valeurs ? Vérifions."
   ]
  },
  {
   "cell_type": "code",
   "execution_count": null,
   "id": "36884122",
   "metadata": {},
   "outputs": [],
   "source": [
    "# Commenté sinon bloque l'exécution globale\n",
    "# ddf[\"id\"].min().compute(), ddf[\"id\"].max().compute()"
   ]
  },
  {
   "cell_type": "markdown",
   "id": "a53585f0",
   "metadata": {},
   "source": [
    "## Vérification des CSVs"
   ]
  },
  {
   "cell_type": "code",
   "execution_count": null,
   "id": "74b86552",
   "metadata": {},
   "outputs": [],
   "source": [
    "# every_df_dtypes = {}\n",
    "# every_columns = []\n",
    "# # Itère sur tous les CSVs dans le répertoire racine des données\n",
    "# for p in (pbar := tqdm(heavy_truck_data_path.glob(\"**/*.csv\"))):\n",
    "#     pbar.set_description(p.name)\n",
    "#     df = pd.read_csv(p, sep=\";\")\n",
    "    \n",
    "#     # Les colonnes\n",
    "#     every_columns.extend(df.columns.tolist())\n",
    "    \n",
    "#     # Les types des données\n",
    "#     for k, v in df.dtypes.to_dict().items():\n",
    "#         if k in every_df_dtypes.keys():\n",
    "#             every_df_dtypes[k].append(v)\n",
    "#         else:\n",
    "#             every_df_dtypes[k] = [v]"
   ]
  },
  {
   "cell_type": "markdown",
   "id": "17b57196",
   "metadata": {},
   "source": [
    "Un CSV exemple qui pose problème: [`../data/heavy_truck_data/part_1/part_1/20201123115624139152.csv`](../data/heavy_truck_data/part_1/part_1/20201123115624139152.csv).\n",
    "\n",
    "Le problème étant que nous nous attendons à avoir 4 valeurs par ligne dans le tableau, sachant qu'il est supposé y avoir 4 colonnes (`timestamp`, `id`, `dlc`, `data`). Or, dans la plupart des lignes d'enregistrement il y a 11 valeurs, ce qui n'est pas normal.\n",
    "\n",
    "<span style=\"color:red\">Voir si c'est possible:</span> ajouter un traitement à l'ouverture pour gérer ce cas.\n",
    "\n",
    "Je pense avoir compris ..."
   ]
  },
  {
   "cell_type": "code",
   "execution_count": null,
   "id": "fb854c2d",
   "metadata": {},
   "outputs": [],
   "source": [
    "working_p = next(iter(heavy_truck_data_path.glob(\"**/*.csv\")))\n",
    "pd.read_csv(working_p, sep=\";\")"
   ]
  },
  {
   "cell_type": "markdown",
   "id": "65493460",
   "metadata": {},
   "source": [
    "# Comprendre le format\n",
    "\n",
    "Le format de données n'est pas CSV (ou pandas) friendly ...\n",
    "\n",
    "Il essaie de fitter un certain format or, ça ne marche pas avec les données actuelles car selon la valeur du `DLC` nous allons avoir plus ou moins de colonnes.\n",
    "\n",
    "Ce qui serait pertinent, ce serait de pouvoir ouvrir les données et appliquer une fonction ligne par ligne pour pouvoir construire correctement les données.\n",
    "\n",
    "**Voici un extrait des données ouvert avec Excel:**\n",
    "\n",
    "![extrait données](./images/extrait-donnees-heavy-truck.png)\n",
    "\n",
    "<span style=\"color:orange\">Un point important est que grâce à cette capture d'écran, nous pouvons facilement observer les types de données contenues dans les colonnes, à savoir:</span>\n",
    "\n",
    "1. Le `timestamp` du message\n",
    "2. L'`id` sous format hexadecimal\n",
    "3. Le `dlc` représentant la taille de la payload en octets\n",
    "4. Le restant des colonnes sont pour la payload, chaque colonne supplémentaire est un octet\n",
    "\n",
    "<span style=\"color:red\">*Remarque:*</span> Un octet est encodé sous 8 bits, donc `2^8` valeurs, ce qui équivaut à une valeur entière dans l'intervalle [0; 255]"
   ]
  },
  {
   "cell_type": "markdown",
   "id": "251ffd40",
   "metadata": {},
   "source": [
    "# Utilisons la librairie `csv` et non pas `pandas`"
   ]
  },
  {
   "cell_type": "code",
   "execution_count": null,
   "id": "fcbeb522",
   "metadata": {},
   "outputs": [],
   "source": [
    "correct_pandas_format_data = []\n",
    "with open(heavy_truck_data_path.joinpath(\"part_1\", \"part_1\", \"20201123075441304067.csv\"), mode=\"r\") as f:\n",
    "    csv_reader = csv.reader(f, delimiter=\";\")\n",
    "\n",
    "    for row_id, row in enumerate(csv_reader):\n",
    "        if row_id == 0: # Ne nous ennuyons pas avec le header, nous le connaissons\n",
    "            continue\n",
    "        \n",
    "        correct_pandas_format_data.append(\n",
    "            {\n",
    "                \"timestamp\": row[0],\n",
    "                \"id\": row[1],\n",
    "                \"dlc\": row[2],\n",
    "                \"data\": row[3:],\n",
    "            }\n",
    "        )\n",
    "\n",
    "df_example = pd.DataFrame(correct_pandas_format_data)\n",
    "\n",
    "# Convertir la colonne timestamp en datatime\n",
    "df_example[\"timestamp\"] = pd.to_datetime(df_example[\"timestamp\"])\n",
    "df_example"
   ]
  },
  {
   "cell_type": "markdown",
   "id": "404884cb",
   "metadata": {},
   "source": [
    "Ce format est beaucoup plus simple à manipuler pour un `DataFrame`. Nous pouvons transformer à notre guise les lignes contenues dans la colonne `data`.\n",
    "\n",
    "Dans un premier temps, on peut convertir cette ligne de liste d'octets en base 10 sous une unique chaine binaire que nous pouvons ensuite convertir en une seule valeur réelle, pour former une valeur d'un signal.\n",
    "\n",
    "En voici un exemple que nous pouvons ensuite appliquer pour créer nos nouvelles colonnes:"
   ]
  },
  {
   "cell_type": "code",
   "execution_count": null,
   "id": "54b281ea",
   "metadata": {},
   "outputs": [],
   "source": [
    "payload = df_example[\"data\"].iloc[0]\n",
    "int(\"\".join([\"{:08b}\" for _ in range(len(payload))]).format(*[int(val) for val in payload]), 2)"
   ]
  },
  {
   "cell_type": "markdown",
   "id": "aff3f36e",
   "metadata": {},
   "source": [
    "Colonne binaire:"
   ]
  },
  {
   "cell_type": "code",
   "execution_count": null,
   "id": "d0b9234b",
   "metadata": {},
   "outputs": [],
   "source": [
    "df_example[\"binary_data\"] = df_example[\"data\"].apply(lambda x: \"\".join([\"{:08b}\" for _ in range(len(x))]).format(*[int(val) for val in x]))"
   ]
  },
  {
   "cell_type": "markdown",
   "id": "6612d6c0",
   "metadata": {},
   "source": [
    "Colonne entière:"
   ]
  },
  {
   "cell_type": "code",
   "execution_count": null,
   "id": "98962ea7",
   "metadata": {},
   "outputs": [],
   "source": [
    "df_example[\"int_data\"] = df_example[\"binary_data\"].apply(lambda x: int(x, 2))"
   ]
  },
  {
   "cell_type": "markdown",
   "id": "3cd76aeb",
   "metadata": {},
   "source": [
    "Visualisons:"
   ]
  },
  {
   "cell_type": "code",
   "execution_count": null,
   "id": "054687f1",
   "metadata": {},
   "outputs": [],
   "source": [
    "df_example"
   ]
  }
 ],
 "metadata": {
  "kernelspec": {
   "display_name": "canlock (3.10.18)",
   "language": "python",
   "name": "python3"
  },
  "language_info": {
   "codemirror_mode": {
    "name": "ipython",
    "version": 3
   },
   "file_extension": ".py",
   "mimetype": "text/x-python",
   "name": "python",
   "nbconvert_exporter": "python",
   "pygments_lexer": "ipython3",
   "version": "3.10.18"
  }
 },
 "nbformat": 4,
 "nbformat_minor": 5
}
